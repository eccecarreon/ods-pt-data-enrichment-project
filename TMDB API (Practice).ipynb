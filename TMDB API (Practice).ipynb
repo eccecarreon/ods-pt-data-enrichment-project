{
 "cells": [
  {
   "cell_type": "markdown",
   "id": "e99e6870-4631-423e-bed1-48b9dc111716",
   "metadata": {},
   "source": [
    "**TMDB API (Practice)** \n",
    "\n",
    "This practice assignment will reinforce important learning objectives from the previous lesson(s), and allow you to take on more challenging core assignments, preparing you for graduation.\n",
    "\n",
    "Practice and tinker with this assignment until you're comfortable performing each of the tasks. Then, be sure to submit your output as described in the steps below."
   ]
  },
  {
   "cell_type": "markdown",
   "id": "1946c210-e115-4111-b385-b920bc487b99",
   "metadata": {},
   "source": [
    "**TMDB API (Practice):**\n",
    "\n",
    "**Project Planning**\n",
    "\n",
    "As discussed in the previous lesson, for the next part of your project, you will extract financial and certification data from TMDB's API for your IMDB data set. You will use an OUTER and INNER loop: a loop within a loop!\n",
    "\n",
    "The OUTER loop will loop through the start years included in the IMDB data, filter the title basics data for the selected year, and save the list of movie ids from that year to retrieve in the inner loop.\n",
    "\n",
    "The INNER loop loops through every movie id from the selected year, extracts its results from the TMDB API, and appends them to a JSON file."
   ]
  },
  {
   "cell_type": "markdown",
   "id": "91d1aa84-886d-45f6-9c7a-a5336d109fc1",
   "metadata": {},
   "source": [
    "For this practice assignment\n",
    "\n",
    "You will be practicing the inner loop of API calls for a single year's list of movies from your IMDB title basics data. Specifically, you will extract the API results for every movie with a startYear of 2000.\n",
    "\n",
    "Read the instructions below, including the examples in the \"Getting Started\" section, before starting your work."
   ]
  },
  {
   "cell_type": "code",
   "execution_count": 1,
   "id": "a93d3b88-d0d4-4752-9bbd-ba1aee5cdaf9",
   "metadata": {
    "tags": []
   },
   "outputs": [
    {
     "name": "stdout",
     "output_type": "stream",
     "text": [
      "Requirement already satisfied: tmdbsimple in c:\\users\\asus tuf\\anaconda3\\lib\\site-packages (2.9.1)\n",
      "Requirement already satisfied: requests in c:\\users\\asus tuf\\anaconda3\\lib\\site-packages (from tmdbsimple) (2.31.0)\n",
      "Requirement already satisfied: charset-normalizer<4,>=2 in c:\\users\\asus tuf\\anaconda3\\lib\\site-packages (from requests->tmdbsimple) (2.0.4)\n",
      "Requirement already satisfied: idna<4,>=2.5 in c:\\users\\asus tuf\\anaconda3\\lib\\site-packages (from requests->tmdbsimple) (3.4)\n",
      "Requirement already satisfied: urllib3<3,>=1.21.1 in c:\\users\\asus tuf\\anaconda3\\lib\\site-packages (from requests->tmdbsimple) (1.26.16)\n",
      "Requirement already satisfied: certifi>=2017.4.17 in c:\\users\\asus tuf\\anaconda3\\lib\\site-packages (from requests->tmdbsimple) (2023.7.22)\n"
     ]
    }
   ],
   "source": [
    "!pip install tmdbsimple"
   ]
  },
  {
   "cell_type": "code",
   "execution_count": 2,
   "id": "003c03d6-961b-4173-be94-beaba2a8cae8",
   "metadata": {
    "tags": []
   },
   "outputs": [
    {
     "name": "stdout",
     "output_type": "stream",
     "text": [
      "Requirement already satisfied: tmdbsimple in c:\\users\\asus tuf\\anaconda3\\lib\\site-packages (2.9.1)\n",
      "Requirement already satisfied: requests in c:\\users\\asus tuf\\anaconda3\\lib\\site-packages (from tmdbsimple) (2.31.0)\n",
      "Requirement already satisfied: charset-normalizer<4,>=2 in c:\\users\\asus tuf\\anaconda3\\lib\\site-packages (from requests->tmdbsimple) (2.0.4)\n",
      "Requirement already satisfied: idna<4,>=2.5 in c:\\users\\asus tuf\\anaconda3\\lib\\site-packages (from requests->tmdbsimple) (3.4)\n",
      "Requirement already satisfied: urllib3<3,>=1.21.1 in c:\\users\\asus tuf\\anaconda3\\lib\\site-packages (from requests->tmdbsimple) (1.26.16)\n",
      "Requirement already satisfied: certifi>=2017.4.17 in c:\\users\\asus tuf\\anaconda3\\lib\\site-packages (from requests->tmdbsimple) (2023.7.22)\n"
     ]
    }
   ],
   "source": [
    "!pip3 install tmdbsimple"
   ]
  },
  {
   "cell_type": "code",
   "execution_count": 3,
   "id": "edaac38b-2b54-435d-bc6a-aef7431d7703",
   "metadata": {
    "tags": []
   },
   "outputs": [],
   "source": [
    "# Import packages\n",
    "import os, time, json\n",
    "import pandas as pd"
   ]
  },
  {
   "cell_type": "code",
   "execution_count": 4,
   "id": "484d7898-5f40-40e1-b132-de05811290ad",
   "metadata": {
    "tags": []
   },
   "outputs": [],
   "source": [
    "from tqdm.notebook import tqdm_notebook"
   ]
  },
  {
   "cell_type": "code",
   "execution_count": 6,
   "id": "db250a02-15ac-4f6c-8dd8-f98553117719",
   "metadata": {
    "tags": []
   },
   "outputs": [
    {
     "ename": "ModuleNotFoundError",
     "evalue": "No module named 'tmdbsimple'",
     "output_type": "error",
     "traceback": [
      "\u001b[1;31m---------------------------------------------------------------------------\u001b[0m",
      "\u001b[1;31mModuleNotFoundError\u001b[0m                       Traceback (most recent call last)",
      "Cell \u001b[1;32mIn[6], line 1\u001b[0m\n\u001b[1;32m----> 1\u001b[0m \u001b[38;5;28;01mimport\u001b[39;00m \u001b[38;5;21;01mtmdbsimple\u001b[39;00m \u001b[38;5;28;01mas\u001b[39;00m \u001b[38;5;21;01mtmdb\u001b[39;00m\n",
      "\u001b[1;31mModuleNotFoundError\u001b[0m: No module named 'tmdbsimple'"
     ]
    }
   ],
   "source": [
    "import tmdbsimple as tmdb"
   ]
  },
  {
   "cell_type": "code",
   "execution_count": 6,
   "id": "0a108759-fb8f-41bf-8c6b-02d44bfc5293",
   "metadata": {
    "tags": []
   },
   "outputs": [
    {
     "data": {
      "text/plain": [
       "['title-akas-us-only.csv',\n",
       " 'title-basics-us-only.csv',\n",
       " 'title-ratings-us-only.csv',\n",
       " 'title.basics.tsv.gz',\n",
       " 'title.ratings.tsv.gz']"
      ]
     },
     "execution_count": 6,
     "metadata": {},
     "output_type": "execute_result"
    }
   ],
   "source": [
    "# Create the folder for saving files (if it doesn't exist)\n",
    "FOLDER = \"Data/\"\n",
    "os.makedirs(FOLDER, exist_ok=True)\n",
    "os.listdir(FOLDER)"
   ]
  }
 ],
 "metadata": {
  "kernelspec": {
   "display_name": "Python (dojo-env)",
   "language": "python",
   "name": "dojo-env"
  },
  "language_info": {
   "codemirror_mode": {
    "name": "ipython",
    "version": 3
   },
   "file_extension": ".py",
   "mimetype": "text/x-python",
   "name": "python",
   "nbconvert_exporter": "python",
   "pygments_lexer": "ipython3",
   "version": "3.10.10"
  },
  "widgets": {
   "application/vnd.jupyter.widget-state+json": {
    "state": {},
    "version_major": 2,
    "version_minor": 0
   }
  }
 },
 "nbformat": 4,
 "nbformat_minor": 5
}
