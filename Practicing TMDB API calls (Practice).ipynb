{
 "cells": [
  {
   "cell_type": "markdown",
   "id": "e99e6870-4631-423e-bed1-48b9dc111716",
   "metadata": {},
   "source": [
    "**TMDB API (Practice)** \n",
    "\n",
    "This practice assignment will reinforce important learning objectives from the previous lesson(s), and allow you to take on more challenging core assignments, preparing you for graduation.\n",
    "\n",
    "Practice and tinker with this assignment until you're comfortable performing each of the tasks. Then, be sure to submit your output as described in the steps below."
   ]
  },
  {
   "cell_type": "markdown",
   "id": "1946c210-e115-4111-b385-b920bc487b99",
   "metadata": {},
   "source": [
    "**TMDB API (Practice):**\n",
    "\n",
    "**Project Planning**\n",
    "\n",
    "As discussed in the previous lesson, for the next part of your project, you will extract financial and certification data from TMDB's API for your IMDB data set. You will use an OUTER and INNER loop: a loop within a loop!\n",
    "\n",
    "The OUTER loop will loop through the start years included in the IMDB data, filter the title basics data for the selected year, and save the list of movie ids from that year to retrieve in the inner loop.\n",
    "\n",
    "The INNER loop loops through every movie id from the selected year, extracts its results from the TMDB API, and appends them to a JSON file."
   ]
  },
  {
   "cell_type": "markdown",
   "id": "9863fcca-8ebe-483f-9fac-b8d75fd57aa4",
   "metadata": {},
   "source": [
    "# **For this practice assignment**"
   ]
  },
  {
   "cell_type": "markdown",
   "id": "91d1aa84-886d-45f6-9c7a-a5336d109fc1",
   "metadata": {},
   "source": [
    "You will be practicing the inner loop of API calls for a single year's list of movies from your IMDB title basics data. Specifically, you will extract the API results for every movie with a startYear of 2000.\n",
    "\n",
    "* **Read the instructions below, including the examples in the \"Getting Started\" section, before starting your work.**"
   ]
  },
  {
   "cell_type": "markdown",
   "id": "8085eb7c-ba65-4018-861e-3a9b682518f2",
   "metadata": {},
   "source": [
    "* **Create a new notebook in your project repository called \"Practicing TMDB API calls.**\n",
    "\n",
    "**Preparation BEFORE the loop**\n",
    "* Designate a folder to save your information.\n",
    "* Define custom functions you will use for your API calls\n",
    "* Load your cleaned title basics data from Part 1 of Project 2 (or query your title_basics table in your MySQL database).\n",
    "* Define the year you wish to retrieve (2010) and create an empty list for appending error messages.\n",
    "\n",
    "**Prepare the DataFrame and JSON File**\n",
    "* **Use the selected year to define filenames and filter the data**\n",
    "    1. Define a JSON_FILE filename to save the results in progress.\n",
    "    2. Check if the file exists.\n",
    "        * if it does not exist, create the empty JSON file with with open that just contains the key \"imdb_id\"\n",
    "        * if it exists, print a message saying that it already exists.\n",
    "\n",
    "***Now that the JSON file for the results in progress exists:***\n",
    "* Filter the IMDB title basics data for the selected year and save the movie IDs from that year as \"movies_ids\".\n",
    "* Check the JSON file for previously downloaded movie IDs and filter out the movie ids that already exists in the JSON file ( to prevent duplicate API calls) by:\n",
    "    * Loading in the contents of the JSON file pd.read_json.\n",
    "        * Compare the movie_ids that were in the JSON file to your saved movie_ids_to_get.\n",
    "    * Save the final list of \"movie_ids_to_get\" by filtering out movies that already exists in the JSON file."
   ]
  },
  {
   "cell_type": "markdown",
   "id": "e332b69c-df04-4a37-8dbf-1d3ddc4e0329",
   "metadata": {},
   "source": [
    "**Perform the Loop of API Calls**\n",
    "\n",
    "Note: you have already written a function to combine the certification with the rest of the .info() from the TMDB API results in the Intro to TMDB API lesson.\n",
    "\n",
    "**Create a loop to make API calls for each id** in the YEAR specified. Include a progress bar using tqdm_notebook.\n",
    "\n",
    "***For each movie id:***\n",
    "* Extract the current ID from the API and retrieve the dictionary of results\n",
    "* Append the new results to the list from the JSON file\n",
    "* Save the updated JSON file back to the disk\n",
    "\n",
    "**Save the Results to Compressed .csv**\n",
    "* **After the loop**, save the final results for the year as a csv.gz file with the year in the filename.\n",
    "\n",
    "Note: at this point, you'll have completed the inner loop that you will need for the next part of the project."
   ]
  },
  {
   "cell_type": "markdown",
   "id": "28fd16ee-4e36-4960-b5a0-fe6fd22323fe",
   "metadata": {},
   "source": [
    "# **Getting Started**"
   ]
  },
  {
   "cell_type": "markdown",
   "id": "478944b1-ad41-4c18-a1c1-351a215f6043",
   "metadata": {},
   "source": [
    "## **Preparation BEFORE the Loop:**"
   ]
  },
  {
   "cell_type": "markdown",
   "id": "7790bca1-f3dd-4210-b2a5-53d466fa811e",
   "metadata": {},
   "source": [
    "**Install, Import packages**"
   ]
  },
  {
   "cell_type": "code",
   "execution_count": 1,
   "id": "a93d3b88-d0d4-4752-9bbd-ba1aee5cdaf9",
   "metadata": {
    "tags": []
   },
   "outputs": [
    {
     "name": "stdout",
     "output_type": "stream",
     "text": [
      "Requirement already satisfied: tmdbsimple in c:\\users\\asus tuf\\anaconda3\\envs\\dojo-env\\lib\\site-packages (2.9.1)\n",
      "Requirement already satisfied: requests in c:\\users\\asus tuf\\anaconda3\\envs\\dojo-env\\lib\\site-packages (from tmdbsimple) (2.29.0)\n",
      "Requirement already satisfied: charset-normalizer<4,>=2 in c:\\users\\asus tuf\\anaconda3\\envs\\dojo-env\\lib\\site-packages (from requests->tmdbsimple) (2.0.4)\n",
      "Requirement already satisfied: idna<4,>=2.5 in c:\\users\\asus tuf\\anaconda3\\envs\\dojo-env\\lib\\site-packages (from requests->tmdbsimple) (3.4)\n",
      "Requirement already satisfied: urllib3<1.27,>=1.21.1 in c:\\users\\asus tuf\\anaconda3\\envs\\dojo-env\\lib\\site-packages (from requests->tmdbsimple) (1.26.15)\n",
      "Requirement already satisfied: certifi>=2017.4.17 in c:\\users\\asus tuf\\anaconda3\\envs\\dojo-env\\lib\\site-packages (from requests->tmdbsimple) (2023.5.7)\n",
      "Note: you may need to restart the kernel to use updated packages.\n"
     ]
    }
   ],
   "source": [
    "pip install tmdbsimple"
   ]
  },
  {
   "cell_type": "code",
   "execution_count": 2,
   "id": "de67d4d3-6956-4387-8fbb-94d44bd6b014",
   "metadata": {},
   "outputs": [],
   "source": [
    "# Import packages\n",
    "import os, time, json\n",
    "import pandas as pd"
   ]
  },
  {
   "cell_type": "code",
   "execution_count": 3,
   "id": "fd580a1f-cadf-46a3-b8e5-97cbdd2cfe0f",
   "metadata": {},
   "outputs": [],
   "source": [
    "from tqdm.notebook import tqdm_notebook"
   ]
  },
  {
   "cell_type": "code",
   "execution_count": 4,
   "id": "db250a02-15ac-4f6c-8dd8-f98553117719",
   "metadata": {
    "tags": []
   },
   "outputs": [],
   "source": [
    "import tmdbsimple as tmdb"
   ]
  },
  {
   "cell_type": "markdown",
   "id": "78364817-88ab-4fbc-b4eb-10de41224a2a",
   "metadata": {},
   "source": [
    "**Designate a folder**\n",
    "\n",
    "You will save API call data in the data folder you created for project Part 1."
   ]
  },
  {
   "cell_type": "code",
   "execution_count": 5,
   "id": "b76406df-1eae-46ef-b6b6-c7bc131b9040",
   "metadata": {},
   "outputs": [
    {
     "data": {
      "text/plain": [
       "['title-akas-us-only.csv',\n",
       " 'title-basics-us-only.csv',\n",
       " 'title-ratings-us-only.csv',\n",
       " 'title.basics.tsv.gz',\n",
       " 'title.ratings.tsv.gz']"
      ]
     },
     "execution_count": 5,
     "metadata": {},
     "output_type": "execute_result"
    }
   ],
   "source": [
    "# Create the folder for saving files (if it doesn't exist)\n",
    "FOLDER = \"Data/\"\n",
    "os.makedirs(FOLDER, exist_ok=True)\n",
    "os.listdir(FOLDER)"
   ]
  },
  {
   "cell_type": "code",
   "execution_count": 6,
   "id": "766fa5e8-9798-4cde-9b47-5cd7e51a8748",
   "metadata": {},
   "outputs": [],
   "source": [
    "# If you created the data folder for part 1, you will see your csv files listed here. If not, it will just be empty []."
   ]
  },
  {
   "cell_type": "code",
   "execution_count": null,
   "id": "25bc2891-b933-47e5-9395-9e2e0d84856e",
   "metadata": {},
   "outputs": [],
   "source": []
  }
 ],
 "metadata": {
  "kernelspec": {
   "display_name": "Python (dojo-env)",
   "language": "python",
   "name": "dojo-env"
  },
  "language_info": {
   "codemirror_mode": {
    "name": "ipython",
    "version": 3
   },
   "file_extension": ".py",
   "mimetype": "text/x-python",
   "name": "python",
   "nbconvert_exporter": "python",
   "pygments_lexer": "ipython3",
   "version": "3.10.10"
  },
  "widgets": {
   "application/vnd.jupyter.widget-state+json": {
    "state": {},
    "version_major": 2,
    "version_minor": 0
   }
  }
 },
 "nbformat": 4,
 "nbformat_minor": 5
}
