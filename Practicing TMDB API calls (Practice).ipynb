{
 "cells": [
  {
   "cell_type": "markdown",
   "id": "e99e6870-4631-423e-bed1-48b9dc111716",
   "metadata": {},
   "source": [
    "**TMDB API (Practice)** \n",
    "\n",
    "This practice assignment will reinforce important learning objectives from the previous lesson(s), and allow you to take on more challenging core assignments, preparing you for graduation.\n",
    "\n",
    "Practice and tinker with this assignment until you're comfortable performing each of the tasks. Then, be sure to submit your output as described in the steps below."
   ]
  },
  {
   "cell_type": "markdown",
   "id": "1946c210-e115-4111-b385-b920bc487b99",
   "metadata": {},
   "source": [
    "**TMDB API (Practice):**\n",
    "\n",
    "**Project Planning**\n",
    "\n",
    "As discussed in the previous lesson, for the next part of your project, you will extract financial and certification data from TMDB's API for your IMDB data set. You will use an OUTER and INNER loop: a loop within a loop!\n",
    "\n",
    "The OUTER loop will loop through the start years included in the IMDB data, filter the title basics data for the selected year, and save the list of movie ids from that year to retrieve in the inner loop.\n",
    "\n",
    "The INNER loop loops through every movie id from the selected year, extracts its results from the TMDB API, and appends them to a JSON file."
   ]
  },
  {
   "cell_type": "markdown",
   "id": "9863fcca-8ebe-483f-9fac-b8d75fd57aa4",
   "metadata": {},
   "source": [
    "# **For this practice assignment**"
   ]
  },
  {
   "cell_type": "markdown",
   "id": "91d1aa84-886d-45f6-9c7a-a5336d109fc1",
   "metadata": {},
   "source": [
    "You will be practicing the inner loop of API calls for a single year's list of movies from your IMDB title basics data. Specifically, you will extract the API results for every movie with a startYear of 2000.\n",
    "\n",
    "* **Read the instructions below, including the examples in the \"Getting Started\" section, before starting your work.**"
   ]
  },
  {
   "cell_type": "markdown",
   "id": "8085eb7c-ba65-4018-861e-3a9b682518f2",
   "metadata": {},
   "source": [
    "* **Create a new notebook in your project repository called \"Practicing TMDB API calls.**\n",
    "\n",
    "**Preparation BEFORE the loop**\n",
    "* Designate a folder to save your information.\n",
    "* Define custom functions you will use for your API calls\n",
    "* Load your cleaned title basics data from Part 1 of Project 2 (or query your title_basics table in your MySQL database).\n",
    "* Define the year you wish to retrieve (2010) and create an empty list for appending error messages.\n",
    "\n",
    "**Prepare the DataFrame and JSON File**\n",
    "* **Use the selected year to define filenames and filter the data**\n",
    "    1. Define a JSON_FILE filename to save the results in progress.\n",
    "    2. Check if the file exists.\n",
    "        * if it does not exist, create the empty JSON file with with open that just contains the key \"imdb_id\"\n",
    "        * if it exists, print a message saying that it already exists.\n",
    "\n",
    "***Now that the JSON file for the results in progress exists:***\n",
    "* Filter the IMDB title basics data for the selected year and save the movie IDs from that year as \"movies_ids\".\n",
    "* Check the JSON file for previously downloaded movie IDs and filter out the movie ids that already exists in the JSON file ( to prevent duplicate API calls) by:\n",
    "    * Loading in the contents of the JSON file pd.read_json.\n",
    "        * Compare the movie_ids that were in the JSON file to your saved movie_ids_to_get.\n",
    "    * Save the final list of \"movie_ids_to_get\" by filtering out movies that already exists in the JSON file."
   ]
  },
  {
   "cell_type": "markdown",
   "id": "e332b69c-df04-4a37-8dbf-1d3ddc4e0329",
   "metadata": {},
   "source": [
    "**Perform the Loop of API Calls**\n",
    "\n",
    "Note: you have already written a function to combine the certification with the rest of the .info() from the TMDB API results in the Intro to TMDB API lesson.\n",
    "\n",
    "**Create a loop to make API calls for each id** in the YEAR specified. Include a progress bar using tqdm_notebook.\n",
    "\n",
    "***For each movie id:***\n",
    "* Extract the current ID from the API and retrieve the dictionary of results\n",
    "* Append the new results to the list from the JSON file\n",
    "* Save the updated JSON file back to the disk\n",
    "\n",
    "**Save the Results to Compressed .csv**\n",
    "* **After the loop**, save the final results for the year as a csv.gz file with the year in the filename.\n",
    "\n",
    "Note: at this point, you'll have completed the inner loop that you will need for the next part of the project."
   ]
  },
  {
   "cell_type": "markdown",
   "id": "28fd16ee-4e36-4960-b5a0-fe6fd22323fe",
   "metadata": {},
   "source": [
    "# **Getting Started**"
   ]
  },
  {
   "cell_type": "markdown",
   "id": "478944b1-ad41-4c18-a1c1-351a215f6043",
   "metadata": {},
   "source": [
    "## **Preparation BEFORE the Loop:**"
   ]
  },
  {
   "cell_type": "markdown",
   "id": "7790bca1-f3dd-4210-b2a5-53d466fa811e",
   "metadata": {},
   "source": [
    "**Install, Import packages**"
   ]
  },
  {
   "cell_type": "code",
   "execution_count": 1,
   "id": "a93d3b88-d0d4-4752-9bbd-ba1aee5cdaf9",
   "metadata": {
    "tags": []
   },
   "outputs": [
    {
     "name": "stdout",
     "output_type": "stream",
     "text": [
      "Requirement already satisfied: tmdbsimple in c:\\users\\asus tuf\\anaconda3\\envs\\dojo-env\\lib\\site-packages (2.9.1)\n",
      "Requirement already satisfied: requests in c:\\users\\asus tuf\\anaconda3\\envs\\dojo-env\\lib\\site-packages (from tmdbsimple) (2.29.0)\n",
      "Requirement already satisfied: charset-normalizer<4,>=2 in c:\\users\\asus tuf\\anaconda3\\envs\\dojo-env\\lib\\site-packages (from requests->tmdbsimple) (2.0.4)\n",
      "Requirement already satisfied: idna<4,>=2.5 in c:\\users\\asus tuf\\anaconda3\\envs\\dojo-env\\lib\\site-packages (from requests->tmdbsimple) (3.4)\n",
      "Requirement already satisfied: urllib3<1.27,>=1.21.1 in c:\\users\\asus tuf\\anaconda3\\envs\\dojo-env\\lib\\site-packages (from requests->tmdbsimple) (1.26.15)\n",
      "Requirement already satisfied: certifi>=2017.4.17 in c:\\users\\asus tuf\\anaconda3\\envs\\dojo-env\\lib\\site-packages (from requests->tmdbsimple) (2023.5.7)\n",
      "Note: you may need to restart the kernel to use updated packages.\n"
     ]
    }
   ],
   "source": [
    "pip install tmdbsimple"
   ]
  },
  {
   "cell_type": "code",
   "execution_count": 2,
   "id": "de67d4d3-6956-4387-8fbb-94d44bd6b014",
   "metadata": {},
   "outputs": [],
   "source": [
    "# Import packages\n",
    "import os, time, json\n",
    "import pandas as pd"
   ]
  },
  {
   "cell_type": "code",
   "execution_count": 3,
   "id": "fd580a1f-cadf-46a3-b8e5-97cbdd2cfe0f",
   "metadata": {},
   "outputs": [],
   "source": [
    "from tqdm.notebook import tqdm_notebook"
   ]
  },
  {
   "cell_type": "code",
   "execution_count": 4,
   "id": "db250a02-15ac-4f6c-8dd8-f98553117719",
   "metadata": {
    "tags": []
   },
   "outputs": [],
   "source": [
    "import tmdbsimple as tmdb"
   ]
  },
  {
   "cell_type": "markdown",
   "id": "78364817-88ab-4fbc-b4eb-10de41224a2a",
   "metadata": {},
   "source": [
    "**Designate a folder**\n",
    "\n",
    "You will save API call data in the data folder you created for project Part 1."
   ]
  },
  {
   "cell_type": "code",
   "execution_count": 5,
   "id": "b76406df-1eae-46ef-b6b6-c7bc131b9040",
   "metadata": {},
   "outputs": [
    {
     "data": {
      "text/plain": [
       "['title-akas-us-only.csv',\n",
       " 'title-basics-us-only.csv',\n",
       " 'title-ratings-us-only.csv',\n",
       " 'title.basics.tsv.gz',\n",
       " 'title.ratings.tsv.gz']"
      ]
     },
     "execution_count": 5,
     "metadata": {},
     "output_type": "execute_result"
    }
   ],
   "source": [
    "# Create the folder for saving files (if it doesn't exist)\n",
    "FOLDER = \"Data/\"\n",
    "os.makedirs(FOLDER, exist_ok=True)\n",
    "os.listdir(FOLDER)"
   ]
  },
  {
   "cell_type": "code",
   "execution_count": 6,
   "id": "766fa5e8-9798-4cde-9b47-5cd7e51a8748",
   "metadata": {},
   "outputs": [],
   "source": [
    "# If you created the data folder for part 1, you will see your csv files listed here. If not, it will just be empty []."
   ]
  },
  {
   "cell_type": "code",
   "execution_count": 7,
   "id": "25bc2891-b933-47e5-9395-9e2e0d84856e",
   "metadata": {},
   "outputs": [],
   "source": [
    "# Define your functions\n",
    "def get_movie_with_rating(movie_id):\n",
    "    # Get the movie object for the current id\n",
    "    movie = tmdb.Movies(movie_id)\n",
    "    \n",
    "    # save the .info .releases dictionaries\n",
    "    movie_info = movie.info()\n",
    "    releases = movie.releases()\n",
    "    \n",
    "    # Loop through countries in releases\n",
    "    for c in releases['countries']:\n",
    "        # if the country abbreviation==US\n",
    "        if c['iso_3166_1' ] =='US':\n",
    "            ## save a \"certification\" key in the info dict with the certification\n",
    "            movie_info['certification'] = c['certification']\n",
    "    return movie_info\n",
    "\n",
    "\n",
    "def write_json(new_data, filename): \n",
    "    \"\"\"Appends a list of records (new_data) to a json file (filename). \n",
    "    Adapted from: https://www.geeksforgeeks.org/append-to-json-file-using-python/\"\"\"  \n",
    "    \n",
    "    with open(filename,'r+') as file:\n",
    "        # First we load existing data into a dict.\n",
    "        file_data = json.load(file)\n",
    "        ## Choose extend or append\n",
    "        if (type(new_data) == list) & (type(file_data) == list):\n",
    "            file_data.extend(new_data)\n",
    "        else:\n",
    "             file_data.append(new_data)\n",
    "        # Sets file's current position at offset.\n",
    "        file.seek(0)\n",
    "        # convert back to json.\n",
    "        json.dump(file_data, file)"
   ]
  },
  {
   "cell_type": "code",
   "execution_count": 8,
   "id": "9e6f35f3-e8fb-409f-b212-0ddb34131add",
   "metadata": {
    "tags": []
   },
   "outputs": [
    {
     "data": {
      "text/html": [
       "<div>\n",
       "<style scoped>\n",
       "    .dataframe tbody tr th:only-of-type {\n",
       "        vertical-align: middle;\n",
       "    }\n",
       "\n",
       "    .dataframe tbody tr th {\n",
       "        vertical-align: top;\n",
       "    }\n",
       "\n",
       "    .dataframe thead th {\n",
       "        text-align: right;\n",
       "    }\n",
       "</style>\n",
       "<table border=\"1\" class=\"dataframe\">\n",
       "  <thead>\n",
       "    <tr style=\"text-align: right;\">\n",
       "      <th></th>\n",
       "      <th>Unnamed: 0</th>\n",
       "      <th>tconst</th>\n",
       "      <th>titleType</th>\n",
       "      <th>primaryTitle</th>\n",
       "      <th>originalTitle</th>\n",
       "      <th>isAdult</th>\n",
       "      <th>startYear</th>\n",
       "      <th>endYear</th>\n",
       "      <th>runtimeMinutes</th>\n",
       "      <th>genres</th>\n",
       "    </tr>\n",
       "  </thead>\n",
       "  <tbody>\n",
       "    <tr>\n",
       "      <th>0</th>\n",
       "      <td>34802</td>\n",
       "      <td>tt0035423</td>\n",
       "      <td>movie</td>\n",
       "      <td>Kate &amp; Leopold</td>\n",
       "      <td>Kate &amp; Leopold</td>\n",
       "      <td>0</td>\n",
       "      <td>2001.0</td>\n",
       "      <td>NaN</td>\n",
       "      <td>118</td>\n",
       "      <td>Comedy,Fantasy,Romance</td>\n",
       "    </tr>\n",
       "    <tr>\n",
       "      <th>1</th>\n",
       "      <td>61114</td>\n",
       "      <td>tt0062336</td>\n",
       "      <td>movie</td>\n",
       "      <td>The Tango of the Widower and Its Distorting Mi...</td>\n",
       "      <td>El tango del viudo y su espejo deformante</td>\n",
       "      <td>0</td>\n",
       "      <td>2020.0</td>\n",
       "      <td>NaN</td>\n",
       "      <td>70</td>\n",
       "      <td>Drama</td>\n",
       "    </tr>\n",
       "    <tr>\n",
       "      <th>2</th>\n",
       "      <td>67666</td>\n",
       "      <td>tt0069049</td>\n",
       "      <td>movie</td>\n",
       "      <td>The Other Side of the Wind</td>\n",
       "      <td>The Other Side of the Wind</td>\n",
       "      <td>0</td>\n",
       "      <td>2018.0</td>\n",
       "      <td>NaN</td>\n",
       "      <td>122</td>\n",
       "      <td>Drama</td>\n",
       "    </tr>\n",
       "    <tr>\n",
       "      <th>3</th>\n",
       "      <td>86793</td>\n",
       "      <td>tt0088751</td>\n",
       "      <td>movie</td>\n",
       "      <td>The Naked Monster</td>\n",
       "      <td>The Naked Monster</td>\n",
       "      <td>0</td>\n",
       "      <td>2005.0</td>\n",
       "      <td>NaN</td>\n",
       "      <td>100</td>\n",
       "      <td>Comedy,Horror,Sci-Fi</td>\n",
       "    </tr>\n",
       "    <tr>\n",
       "      <th>4</th>\n",
       "      <td>93930</td>\n",
       "      <td>tt0096056</td>\n",
       "      <td>movie</td>\n",
       "      <td>Crime and Punishment</td>\n",
       "      <td>Crime and Punishment</td>\n",
       "      <td>0</td>\n",
       "      <td>2002.0</td>\n",
       "      <td>NaN</td>\n",
       "      <td>126</td>\n",
       "      <td>Drama</td>\n",
       "    </tr>\n",
       "    <tr>\n",
       "      <th>...</th>\n",
       "      <td>...</td>\n",
       "      <td>...</td>\n",
       "      <td>...</td>\n",
       "      <td>...</td>\n",
       "      <td>...</td>\n",
       "      <td>...</td>\n",
       "      <td>...</td>\n",
       "      <td>...</td>\n",
       "      <td>...</td>\n",
       "      <td>...</td>\n",
       "    </tr>\n",
       "    <tr>\n",
       "      <th>86974</th>\n",
       "      <td>10016149</td>\n",
       "      <td>tt9914942</td>\n",
       "      <td>movie</td>\n",
       "      <td>Life Without Sara Amat</td>\n",
       "      <td>La vida sense la Sara Amat</td>\n",
       "      <td>0</td>\n",
       "      <td>2019.0</td>\n",
       "      <td>NaN</td>\n",
       "      <td>74</td>\n",
       "      <td>Drama</td>\n",
       "    </tr>\n",
       "    <tr>\n",
       "      <th>86975</th>\n",
       "      <td>10016544</td>\n",
       "      <td>tt9915872</td>\n",
       "      <td>movie</td>\n",
       "      <td>The Last White Witch</td>\n",
       "      <td>My Girlfriend is a Wizard</td>\n",
       "      <td>0</td>\n",
       "      <td>2019.0</td>\n",
       "      <td>NaN</td>\n",
       "      <td>97</td>\n",
       "      <td>Comedy,Drama,Fantasy</td>\n",
       "    </tr>\n",
       "    <tr>\n",
       "      <th>86976</th>\n",
       "      <td>10016684</td>\n",
       "      <td>tt9916170</td>\n",
       "      <td>movie</td>\n",
       "      <td>The Rehearsal</td>\n",
       "      <td>O Ensaio</td>\n",
       "      <td>0</td>\n",
       "      <td>2019.0</td>\n",
       "      <td>NaN</td>\n",
       "      <td>51</td>\n",
       "      <td>Drama</td>\n",
       "    </tr>\n",
       "    <tr>\n",
       "      <th>86977</th>\n",
       "      <td>10016693</td>\n",
       "      <td>tt9916190</td>\n",
       "      <td>movie</td>\n",
       "      <td>Safeguard</td>\n",
       "      <td>Safeguard</td>\n",
       "      <td>0</td>\n",
       "      <td>2020.0</td>\n",
       "      <td>NaN</td>\n",
       "      <td>95</td>\n",
       "      <td>Action,Adventure,Thriller</td>\n",
       "    </tr>\n",
       "    <tr>\n",
       "      <th>86978</th>\n",
       "      <td>10016777</td>\n",
       "      <td>tt9916362</td>\n",
       "      <td>movie</td>\n",
       "      <td>Coven</td>\n",
       "      <td>Akelarre</td>\n",
       "      <td>0</td>\n",
       "      <td>2020.0</td>\n",
       "      <td>NaN</td>\n",
       "      <td>92</td>\n",
       "      <td>Drama,History</td>\n",
       "    </tr>\n",
       "  </tbody>\n",
       "</table>\n",
       "<p>86979 rows × 10 columns</p>\n",
       "</div>"
      ],
      "text/plain": [
       "       Unnamed: 0     tconst titleType  \\\n",
       "0           34802  tt0035423     movie   \n",
       "1           61114  tt0062336     movie   \n",
       "2           67666  tt0069049     movie   \n",
       "3           86793  tt0088751     movie   \n",
       "4           93930  tt0096056     movie   \n",
       "...           ...        ...       ...   \n",
       "86974    10016149  tt9914942     movie   \n",
       "86975    10016544  tt9915872     movie   \n",
       "86976    10016684  tt9916170     movie   \n",
       "86977    10016693  tt9916190     movie   \n",
       "86978    10016777  tt9916362     movie   \n",
       "\n",
       "                                            primaryTitle  \\\n",
       "0                                         Kate & Leopold   \n",
       "1      The Tango of the Widower and Its Distorting Mi...   \n",
       "2                             The Other Side of the Wind   \n",
       "3                                      The Naked Monster   \n",
       "4                                   Crime and Punishment   \n",
       "...                                                  ...   \n",
       "86974                             Life Without Sara Amat   \n",
       "86975                               The Last White Witch   \n",
       "86976                                      The Rehearsal   \n",
       "86977                                          Safeguard   \n",
       "86978                                              Coven   \n",
       "\n",
       "                                   originalTitle  isAdult  startYear  endYear  \\\n",
       "0                                 Kate & Leopold        0     2001.0      NaN   \n",
       "1      El tango del viudo y su espejo deformante        0     2020.0      NaN   \n",
       "2                     The Other Side of the Wind        0     2018.0      NaN   \n",
       "3                              The Naked Monster        0     2005.0      NaN   \n",
       "4                           Crime and Punishment        0     2002.0      NaN   \n",
       "...                                          ...      ...        ...      ...   \n",
       "86974                 La vida sense la Sara Amat        0     2019.0      NaN   \n",
       "86975                  My Girlfriend is a Wizard        0     2019.0      NaN   \n",
       "86976                                   O Ensaio        0     2019.0      NaN   \n",
       "86977                                  Safeguard        0     2020.0      NaN   \n",
       "86978                                   Akelarre        0     2020.0      NaN   \n",
       "\n",
       "       runtimeMinutes                     genres  \n",
       "0                 118     Comedy,Fantasy,Romance  \n",
       "1                  70                      Drama  \n",
       "2                 122                      Drama  \n",
       "3                 100       Comedy,Horror,Sci-Fi  \n",
       "4                 126                      Drama  \n",
       "...               ...                        ...  \n",
       "86974              74                      Drama  \n",
       "86975              97       Comedy,Drama,Fantasy  \n",
       "86976              51                      Drama  \n",
       "86977              95  Action,Adventure,Thriller  \n",
       "86978              92              Drama,History  \n",
       "\n",
       "[86979 rows x 10 columns]"
      ]
     },
     "execution_count": 8,
     "metadata": {},
     "output_type": "execute_result"
    }
   ],
   "source": [
    "# Load the cleaned Title Basics (from Part 1)\n",
    "basics = pd.read_csv('Data/title-basics-us-only.csv')\n",
    "basics"
   ]
  },
  {
   "cell_type": "code",
   "execution_count": 9,
   "id": "6e29713f-841d-489d-a6a7-c1b5eb549888",
   "metadata": {
    "tags": []
   },
   "outputs": [],
   "source": [
    "# Set the year to filter for\n",
    "YEAR = 2000\n",
    "\n",
    "# Create an empty list for saving errors\n",
    "errors = []"
   ]
  },
  {
   "cell_type": "code",
   "execution_count": 10,
   "id": "ab0459ff-2109-47f2-92e1-28ef13170a6f",
   "metadata": {
    "tags": []
   },
   "outputs": [
    {
     "name": "stdout",
     "output_type": "stream",
     "text": [
      "Creating Data/tmdb_api_results_2000.json for API results for year=2000.\n"
     ]
    }
   ],
   "source": [
    "# Define the JSON file to store results for the year\n",
    "JSON_FILE = f'{FOLDER}tmdb_api_results_{YEAR}.json'\n",
    "\n",
    "\n",
    "# Check if the JSON file exists\n",
    "file_exists = os.path.isfile(JSON_FILE)\n",
    "\n",
    "# If it does not exist: create it\n",
    "if file_exists == False:\n",
    "    print(f\"Creating {JSON_FILE} for API results for year={YEAR}.\")\n",
    "    \n",
    "    # save an empty dict with just \"imdb_id\" to the new json file.\n",
    "    with open(JSON_FILE,'w') as f:\n",
    "        json.dump([{'imdb_id':0}],f)\n",
    "\n",
    "# If it exists, print a message\n",
    "else:\n",
    "    print(f'The file {JSON_FILE} already exists.')"
   ]
  },
  {
   "cell_type": "code",
   "execution_count": 11,
   "id": "18f21d2b-dc3c-4317-ae35-ab349f5fe12a",
   "metadata": {
    "tags": []
   },
   "outputs": [
    {
     "data": {
      "text/plain": [
       "8     tt0113026\n",
       "9     tt0113092\n",
       "11    tt0115937\n",
       "12    tt0116391\n",
       "13    tt0116628\n",
       "Name: tconst, dtype: object"
      ]
     },
     "execution_count": 11,
     "metadata": {},
     "output_type": "execute_result"
    }
   ],
   "source": [
    "# Filtering for movies from selected startYear\n",
    "df = basics.loc[ basics['startYear']==YEAR].copy()\n",
    "# saving movie ids to list\n",
    "movie_ids = df['tconst']\n",
    "movie_ids.head()"
   ]
  },
  {
   "cell_type": "code",
   "execution_count": 12,
   "id": "c575de20-2ea2-40df-be4d-a9501ba432e1",
   "metadata": {
    "tags": []
   },
   "outputs": [
    {
     "data": {
      "text/html": [
       "<div>\n",
       "<style scoped>\n",
       "    .dataframe tbody tr th:only-of-type {\n",
       "        vertical-align: middle;\n",
       "    }\n",
       "\n",
       "    .dataframe tbody tr th {\n",
       "        vertical-align: top;\n",
       "    }\n",
       "\n",
       "    .dataframe thead th {\n",
       "        text-align: right;\n",
       "    }\n",
       "</style>\n",
       "<table border=\"1\" class=\"dataframe\">\n",
       "  <thead>\n",
       "    <tr style=\"text-align: right;\">\n",
       "      <th></th>\n",
       "      <th>imdb_id</th>\n",
       "    </tr>\n",
       "  </thead>\n",
       "  <tbody>\n",
       "    <tr>\n",
       "      <th>0</th>\n",
       "      <td>0</td>\n",
       "    </tr>\n",
       "  </tbody>\n",
       "</table>\n",
       "</div>"
      ],
      "text/plain": [
       "   imdb_id\n",
       "0        0"
      ]
     },
     "execution_count": 12,
     "metadata": {},
     "output_type": "execute_result"
    }
   ],
   "source": [
    "# Load existing data from json into a dataframe called \"previous_df\"\n",
    "previous_df = pd.read_json(JSON_FILE)\n",
    "previous_df"
   ]
  },
  {
   "cell_type": "code",
   "execution_count": 13,
   "id": "cfe536b8-6f62-4a82-aab0-242a975ba521",
   "metadata": {
    "tags": []
   },
   "outputs": [],
   "source": [
    "# filter out any ids that are already in the JSON_FILE\n",
    "movie_ids_to_get = movie_ids[~movie_ids.isin(previous_df['imdb_id'])]"
   ]
  },
  {
   "cell_type": "code",
   "execution_count": 14,
   "id": "d70490a8-3dac-4bdd-8925-3c0e59902418",
   "metadata": {
    "tags": []
   },
   "outputs": [
    {
     "data": {
      "application/vnd.jupyter.widget-view+json": {
       "model_id": "ac9bb9215d86464ea594712d05040e66",
       "version_major": 2,
       "version_minor": 0
      },
      "text/plain": [
       "Movies from 2000:   0%|          | 0/1457 [00:00<?, ?it/s]"
      ]
     },
     "metadata": {},
     "output_type": "display_data"
    }
   ],
   "source": [
    "# Loop through movie_ids_to_get with a tqdm progress bar\n",
    "for movie_id in tqdm_notebook(movie_ids_to_get, f\"Movies from {YEAR}\"):\n",
    "\n",
    "    # Attempt to retrieve then data for the movie id\n",
    "    try:\n",
    "        temp = get_movie_with_rating(movie_id)  #This uses your pre-ma    de function\n",
    "        # Append/extend results to existing file using a pre-made function\n",
    "        write_json(temp,JSON_FILE)\n",
    "        # Short 20 ms sleep to prevent overwhelming server\n",
    "        time.sleep(0.02)\n",
    "\n",
    "    # If it fails,  make a dict with just the id and None for certification.\n",
    "    except Exception as e:\n",
    "        errors.append([movie_id, e])"
   ]
  },
  {
   "cell_type": "code",
   "execution_count": 15,
   "id": "90f4eba1-2aeb-4cb9-884b-878ed6fa2baa",
   "metadata": {
    "tags": []
   },
   "outputs": [
    {
     "name": "stdout",
     "output_type": "stream",
     "text": [
      "- Total errors: 1457\n"
     ]
    }
   ],
   "source": [
    "print(f\"- Total errors: {len(errors)}\")"
   ]
  },
  {
   "cell_type": "code",
   "execution_count": 16,
   "id": "8b1ea0df-d011-4ab4-b750-914392cc0484",
   "metadata": {
    "tags": []
   },
   "outputs": [],
   "source": [
    "# Save the final results to a csv.gz file\n",
    "final_year_df = pd.read_json(JSON_FILE)\n",
    "\n",
    "csv_fname = f\"{FOLDER}final_tmdb_data_{YEAR}.csv.gz\"\n",
    "final_year_df.to_csv(csv_fname, compression=\"gzip\", index=False)"
   ]
  }
 ],
 "metadata": {
  "kernelspec": {
   "display_name": "Python (dojo-env)",
   "language": "python",
   "name": "dojo-env"
  },
  "language_info": {
   "codemirror_mode": {
    "name": "ipython",
    "version": 3
   },
   "file_extension": ".py",
   "mimetype": "text/x-python",
   "name": "python",
   "nbconvert_exporter": "python",
   "pygments_lexer": "ipython3",
   "version": "3.10.10"
  },
  "widgets": {
   "application/vnd.jupyter.widget-state+json": {
    "state": {
     "16e9729f4e3e42a4bd4406e9288dd79a": {
      "model_module": "@jupyter-widgets/controls",
      "model_module_version": "2.0.0",
      "model_name": "HTMLStyleModel",
      "state": {
       "description_width": "",
       "font_size": null,
       "text_color": null
      }
     },
     "18dfeba07ec24e3ebeed247e12363c48": {
      "model_module": "@jupyter-widgets/base",
      "model_module_version": "2.0.0",
      "model_name": "LayoutModel",
      "state": {}
     },
     "1feeddea78dc4b1d9478421a2b05b579": {
      "model_module": "@jupyter-widgets/controls",
      "model_module_version": "2.0.0",
      "model_name": "HTMLStyleModel",
      "state": {
       "description_width": "",
       "font_size": null,
       "text_color": null
      }
     },
     "892cbef544594f1087f0acddeecba672": {
      "model_module": "@jupyter-widgets/controls",
      "model_module_version": "2.0.0",
      "model_name": "FloatProgressModel",
      "state": {
       "bar_style": "success",
       "layout": "IPY_MODEL_fa5fcbcf685a4aa7993a30c6a9cbae46",
       "max": 1457,
       "style": "IPY_MODEL_d5c53ee4f1f74164a4e63599518a2c4b",
       "value": 1457
      }
     },
     "9427241efeea43f0a3705e3c65d91303": {
      "model_module": "@jupyter-widgets/base",
      "model_module_version": "2.0.0",
      "model_name": "LayoutModel",
      "state": {}
     },
     "ac9bb9215d86464ea594712d05040e66": {
      "model_module": "@jupyter-widgets/controls",
      "model_module_version": "2.0.0",
      "model_name": "HBoxModel",
      "state": {
       "children": [
        "IPY_MODEL_daff7ee2664a4c6b8bff3aa4140b2d75",
        "IPY_MODEL_892cbef544594f1087f0acddeecba672",
        "IPY_MODEL_ef734404d4dd4b90bc299beec0714fde"
       ],
       "layout": "IPY_MODEL_18dfeba07ec24e3ebeed247e12363c48"
      }
     },
     "d5c53ee4f1f74164a4e63599518a2c4b": {
      "model_module": "@jupyter-widgets/controls",
      "model_module_version": "2.0.0",
      "model_name": "ProgressStyleModel",
      "state": {
       "description_width": ""
      }
     },
     "daff7ee2664a4c6b8bff3aa4140b2d75": {
      "model_module": "@jupyter-widgets/controls",
      "model_module_version": "2.0.0",
      "model_name": "HTMLModel",
      "state": {
       "layout": "IPY_MODEL_dd76273b00294f6595b7cdce5abbe281",
       "style": "IPY_MODEL_1feeddea78dc4b1d9478421a2b05b579",
       "value": "Movies from 2000: 100%"
      }
     },
     "dd76273b00294f6595b7cdce5abbe281": {
      "model_module": "@jupyter-widgets/base",
      "model_module_version": "2.0.0",
      "model_name": "LayoutModel",
      "state": {}
     },
     "ef734404d4dd4b90bc299beec0714fde": {
      "model_module": "@jupyter-widgets/controls",
      "model_module_version": "2.0.0",
      "model_name": "HTMLModel",
      "state": {
       "layout": "IPY_MODEL_9427241efeea43f0a3705e3c65d91303",
       "style": "IPY_MODEL_16e9729f4e3e42a4bd4406e9288dd79a",
       "value": " 1457/1457 [00:00&lt;00:00, 63345.19it/s]"
      }
     },
     "fa5fcbcf685a4aa7993a30c6a9cbae46": {
      "model_module": "@jupyter-widgets/base",
      "model_module_version": "2.0.0",
      "model_name": "LayoutModel",
      "state": {}
     }
    },
    "version_major": 2,
    "version_minor": 0
   }
  }
 },
 "nbformat": 4,
 "nbformat_minor": 5
}
