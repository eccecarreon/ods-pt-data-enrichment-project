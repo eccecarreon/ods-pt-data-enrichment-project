{
 "cells": [
  {
   "cell_type": "markdown",
   "id": "022f2055-f5b7-4831-b8cb-6482d4bd4695",
   "metadata": {},
   "source": [
    "# Task"
   ]
  },
  {
   "cell_type": "markdown",
   "id": "1a3d9ba2-4950-4711-9031-6759631c971e",
   "metadata": {},
   "source": [
    "## Business Problem"
   ]
  },
  {
   "cell_type": "markdown",
   "id": "f54ee873-7bed-4954-b932-d7c55bdc60a5",
   "metadata": {},
   "source": [
    "For this project, you have been hired to produce a MySQL database on Movies from a subset of IMDB's publicly available dataset. Ultimately, you will use this database to analyze what makes a movie successful and will provide recommendations to the stakeholder on how to make a successful movie.\n",
    "\n",
    "Over the course of this project, you will:\n",
    "\n",
    "* Part 1: Create your project repository, download IMDB’s movie data, and filter out the subset of movies requested by the stakeholder.\n",
    "* Part 3: Design a MySQL database for your data and insert the data.\n",
    "* Part 3: Use an API to extract box office financial data and transform and load it into your database.\n",
    "* Part 4: Apply hypothesis testing to explore what makes a movie \"successful.\""
   ]
  },
  {
   "cell_type": "markdown",
   "id": "6e487705-25a8-42c1-a4a4-cc87085240cf",
   "metadata": {},
   "source": [
    "**Part 1**\n",
    "\n",
    "For Part 1 of the project, you will be creating your project repository, downloading the IMDB data for the requested tables, filtering out unnecessary data, and saving the filtered tables as csv files (\".csv.gz\") in your repository.\n",
    "\n",
    "Instructions + Getting Started:\n",
    "\n",
    "* Please read through all of the instructions before you start working on your project.\n",
    "\n",
    "The Data\n",
    "\n",
    "IMDB Provides a large dataset with varied information for Movies, TV Shows, Made for TV Movies, etc. for free (for Non-commercial use). The Data Dictionary is located here: [https://www.imdb.com/interfaces/](https://www.imdb.com/interfaces/).\n",
    "\n",
    "* We have provided partially-processed files for you in this [Google Drive folder](https://drive.google.com/drive/folders/1I8FKN3S9acXMNzyXq3lo8n9PjplSPB97?usp=drive_link).\n",
    "\n",
    "Specifications\n",
    "\n",
    "Your stakeholder only wants you to include information for movies based on the following specifications:\n",
    "\n",
    "* Include only movies that were released in the United States.\n",
    "* Include only movies that were released 2000 - 2022 (startYear >=2000 and startYear<=2022)\n",
    "* Include only full-length movies (titleType = \"movie\").\n",
    "* Exclude movies that are missing genre or runtime.\n",
    "* Include only fictional genres (where Genres does not include \"Documentary\".)\n",
    "\n",
    "Provided Files\n",
    "\n",
    "* From their previous research, they realized the data they want is in the following files:\n",
    "    * title.basics.tsv.gz\n",
    "    * title.ratings.tsv.gz\n",
    "* However, to filter for movies released in the United States, you will also need \"title-akas-us-only.csv\"\n",
    "\n",
    "Note: this is a pre-filtered version of the title.akas.tsv.gz file. The full file is large and can cause problems for computers with less RAM/memory. We have included information on the preprocessing steps that have already been performed in the included Google Doc \"IMDB Movie Dataset Info\" in the folder linked above.\n",
    "\n",
    "Deliverables\n",
    "\n",
    "After filtering out movies that do not meet the stakeholder's specifications:\n",
    "\n",
    "* Before saving, run a final .info() for each of the dataframes to show a summary of how many movies remain and the datatypes of each feature\n",
    "* Save each file to a csv file in the \"Data/\" folder in your repo.\n",
    "* Commit your changes to your repository in GitHub desktop and Publish repository / Push Changes.\n",
    "* Submit the link to your repository."
   ]
  },
  {
   "cell_type": "markdown",
   "id": "95273497-30a3-47c7-a7d0-b6493341cd1e",
   "metadata": {},
   "source": [
    "# Solution"
   ]
  },
  {
   "cell_type": "code",
   "execution_count": 1,
   "id": "340cf607-a5d7-4d71-a50e-03ab0b76b690",
   "metadata": {
    "tags": []
   },
   "outputs": [],
   "source": [
    "# Import libraries\n",
    "import pandas as pd\n",
    "import numpy as np"
   ]
  },
  {
   "cell_type": "code",
   "execution_count": 2,
   "id": "e1db27c5-650e-4831-8221-9da6c7c98b89",
   "metadata": {
    "tags": []
   },
   "outputs": [],
   "source": [
    "# Load TSVs with Pandas\n",
    "akas = pd.read_csv(\"Data/title-akas-us-only.csv\", low_memory=False)"
   ]
  },
  {
   "cell_type": "code",
   "execution_count": 3,
   "id": "4d4f0e2c-f3a8-4957-98ee-0d532ce1a406",
   "metadata": {
    "tags": []
   },
   "outputs": [],
   "source": [
    "# Load TSVs with Pandas\n",
    "basics = pd.read_csv(\"Data/title.basics.tsv.gz\", sep='\\t', low_memory=False)"
   ]
  },
  {
   "cell_type": "code",
   "execution_count": 4,
   "id": "443b3a03-37d1-4293-a3de-37088919d83b",
   "metadata": {
    "tags": []
   },
   "outputs": [
    {
     "data": {
      "text/html": [
       "<div>\n",
       "<style scoped>\n",
       "    .dataframe tbody tr th:only-of-type {\n",
       "        vertical-align: middle;\n",
       "    }\n",
       "\n",
       "    .dataframe tbody tr th {\n",
       "        vertical-align: top;\n",
       "    }\n",
       "\n",
       "    .dataframe thead th {\n",
       "        text-align: right;\n",
       "    }\n",
       "</style>\n",
       "<table border=\"1\" class=\"dataframe\">\n",
       "  <thead>\n",
       "    <tr style=\"text-align: right;\">\n",
       "      <th></th>\n",
       "      <th>tconst</th>\n",
       "      <th>titleType</th>\n",
       "      <th>primaryTitle</th>\n",
       "      <th>originalTitle</th>\n",
       "      <th>isAdult</th>\n",
       "      <th>startYear</th>\n",
       "      <th>endYear</th>\n",
       "      <th>runtimeMinutes</th>\n",
       "      <th>genres</th>\n",
       "    </tr>\n",
       "  </thead>\n",
       "  <tbody>\n",
       "    <tr>\n",
       "      <th>0</th>\n",
       "      <td>tt0000001</td>\n",
       "      <td>short</td>\n",
       "      <td>Carmencita</td>\n",
       "      <td>Carmencita</td>\n",
       "      <td>0</td>\n",
       "      <td>1894</td>\n",
       "      <td>\\N</td>\n",
       "      <td>1</td>\n",
       "      <td>Documentary,Short</td>\n",
       "    </tr>\n",
       "    <tr>\n",
       "      <th>1</th>\n",
       "      <td>tt0000002</td>\n",
       "      <td>short</td>\n",
       "      <td>Le clown et ses chiens</td>\n",
       "      <td>Le clown et ses chiens</td>\n",
       "      <td>0</td>\n",
       "      <td>1892</td>\n",
       "      <td>\\N</td>\n",
       "      <td>5</td>\n",
       "      <td>Animation,Short</td>\n",
       "    </tr>\n",
       "    <tr>\n",
       "      <th>4</th>\n",
       "      <td>tt0000005</td>\n",
       "      <td>short</td>\n",
       "      <td>Blacksmith Scene</td>\n",
       "      <td>Blacksmith Scene</td>\n",
       "      <td>0</td>\n",
       "      <td>1893</td>\n",
       "      <td>\\N</td>\n",
       "      <td>1</td>\n",
       "      <td>Comedy,Short</td>\n",
       "    </tr>\n",
       "    <tr>\n",
       "      <th>5</th>\n",
       "      <td>tt0000006</td>\n",
       "      <td>short</td>\n",
       "      <td>Chinese Opium Den</td>\n",
       "      <td>Chinese Opium Den</td>\n",
       "      <td>0</td>\n",
       "      <td>1894</td>\n",
       "      <td>\\N</td>\n",
       "      <td>1</td>\n",
       "      <td>Short</td>\n",
       "    </tr>\n",
       "    <tr>\n",
       "      <th>6</th>\n",
       "      <td>tt0000007</td>\n",
       "      <td>short</td>\n",
       "      <td>Corbett and Courtney Before the Kinetograph</td>\n",
       "      <td>Corbett and Courtney Before the Kinetograph</td>\n",
       "      <td>0</td>\n",
       "      <td>1894</td>\n",
       "      <td>\\N</td>\n",
       "      <td>1</td>\n",
       "      <td>Short,Sport</td>\n",
       "    </tr>\n",
       "    <tr>\n",
       "      <th>...</th>\n",
       "      <td>...</td>\n",
       "      <td>...</td>\n",
       "      <td>...</td>\n",
       "      <td>...</td>\n",
       "      <td>...</td>\n",
       "      <td>...</td>\n",
       "      <td>...</td>\n",
       "      <td>...</td>\n",
       "      <td>...</td>\n",
       "    </tr>\n",
       "    <tr>\n",
       "      <th>10016872</th>\n",
       "      <td>tt9916560</td>\n",
       "      <td>tvMovie</td>\n",
       "      <td>March of Dimes Presents: Once Upon a Dime</td>\n",
       "      <td>March of Dimes Presents: Once Upon a Dime</td>\n",
       "      <td>0</td>\n",
       "      <td>1963</td>\n",
       "      <td>\\N</td>\n",
       "      <td>58</td>\n",
       "      <td>Family</td>\n",
       "    </tr>\n",
       "    <tr>\n",
       "      <th>10016901</th>\n",
       "      <td>tt9916620</td>\n",
       "      <td>movie</td>\n",
       "      <td>The Copeland Case</td>\n",
       "      <td>The Copeland Case</td>\n",
       "      <td>0</td>\n",
       "      <td>\\N</td>\n",
       "      <td>\\N</td>\n",
       "      <td>\\N</td>\n",
       "      <td>Drama</td>\n",
       "    </tr>\n",
       "    <tr>\n",
       "      <th>10016939</th>\n",
       "      <td>tt9916702</td>\n",
       "      <td>short</td>\n",
       "      <td>Loving London: The Playground</td>\n",
       "      <td>Loving London: The Playground</td>\n",
       "      <td>0</td>\n",
       "      <td>\\N</td>\n",
       "      <td>\\N</td>\n",
       "      <td>\\N</td>\n",
       "      <td>Drama,Short</td>\n",
       "    </tr>\n",
       "    <tr>\n",
       "      <th>10016962</th>\n",
       "      <td>tt9916756</td>\n",
       "      <td>short</td>\n",
       "      <td>Pretty Pretty Black Girl</td>\n",
       "      <td>Pretty Pretty Black Girl</td>\n",
       "      <td>0</td>\n",
       "      <td>2019</td>\n",
       "      <td>\\N</td>\n",
       "      <td>\\N</td>\n",
       "      <td>Short</td>\n",
       "    </tr>\n",
       "    <tr>\n",
       "      <th>10016966</th>\n",
       "      <td>tt9916764</td>\n",
       "      <td>short</td>\n",
       "      <td>38</td>\n",
       "      <td>38</td>\n",
       "      <td>0</td>\n",
       "      <td>2018</td>\n",
       "      <td>\\N</td>\n",
       "      <td>\\N</td>\n",
       "      <td>Short</td>\n",
       "    </tr>\n",
       "  </tbody>\n",
       "</table>\n",
       "<p>1365643 rows × 9 columns</p>\n",
       "</div>"
      ],
      "text/plain": [
       "             tconst titleType                                 primaryTitle  \\\n",
       "0         tt0000001     short                                   Carmencita   \n",
       "1         tt0000002     short                       Le clown et ses chiens   \n",
       "4         tt0000005     short                             Blacksmith Scene   \n",
       "5         tt0000006     short                            Chinese Opium Den   \n",
       "6         tt0000007     short  Corbett and Courtney Before the Kinetograph   \n",
       "...             ...       ...                                          ...   \n",
       "10016872  tt9916560   tvMovie    March of Dimes Presents: Once Upon a Dime   \n",
       "10016901  tt9916620     movie                            The Copeland Case   \n",
       "10016939  tt9916702     short                Loving London: The Playground   \n",
       "10016962  tt9916756     short                     Pretty Pretty Black Girl   \n",
       "10016966  tt9916764     short                                           38   \n",
       "\n",
       "                                        originalTitle isAdult startYear  \\\n",
       "0                                          Carmencita       0      1894   \n",
       "1                              Le clown et ses chiens       0      1892   \n",
       "4                                    Blacksmith Scene       0      1893   \n",
       "5                                   Chinese Opium Den       0      1894   \n",
       "6         Corbett and Courtney Before the Kinetograph       0      1894   \n",
       "...                                               ...     ...       ...   \n",
       "10016872    March of Dimes Presents: Once Upon a Dime       0      1963   \n",
       "10016901                            The Copeland Case       0        \\N   \n",
       "10016939                Loving London: The Playground       0        \\N   \n",
       "10016962                     Pretty Pretty Black Girl       0      2019   \n",
       "10016966                                           38       0      2018   \n",
       "\n",
       "         endYear runtimeMinutes             genres  \n",
       "0             \\N              1  Documentary,Short  \n",
       "1             \\N              5    Animation,Short  \n",
       "4             \\N              1       Comedy,Short  \n",
       "5             \\N              1              Short  \n",
       "6             \\N              1        Short,Sport  \n",
       "...          ...            ...                ...  \n",
       "10016872      \\N             58             Family  \n",
       "10016901      \\N             \\N              Drama  \n",
       "10016939      \\N             \\N        Drama,Short  \n",
       "10016962      \\N             \\N              Short  \n",
       "10016966      \\N             \\N              Short  \n",
       "\n",
       "[1365643 rows x 9 columns]"
      ]
     },
     "execution_count": 4,
     "metadata": {},
     "output_type": "execute_result"
    }
   ],
   "source": [
    "# Filter the basics table down to only include the US by using the filter akas dataframe\n",
    "filter_us_titles = basics['tconst'].isin(akas['titleId'])\n",
    "basics = basics[filter_us_titles]\n",
    "basics"
   ]
  },
  {
   "cell_type": "code",
   "execution_count": 5,
   "id": "1351c839-26f3-401f-a78a-393759f16875",
   "metadata": {},
   "outputs": [],
   "source": [
    "# Convert to dataframes\n",
    "df_basics = pd.DataFrame(basics)\n",
    "df_akas = pd.DataFrame(akas)"
   ]
  },
  {
   "cell_type": "markdown",
   "id": "90e852b0-d3e7-4540-8efa-38859da4715a",
   "metadata": {},
   "source": [
    "**Let's start with basics table**"
   ]
  },
  {
   "cell_type": "code",
   "execution_count": 6,
   "id": "d012eb80-d080-4ede-a6a3-ef737522229f",
   "metadata": {
    "tags": []
   },
   "outputs": [
    {
     "name": "stdout",
     "output_type": "stream",
     "text": [
      "<class 'pandas.core.frame.DataFrame'>\n",
      "Int64Index: 1365643 entries, 0 to 10016966\n",
      "Data columns (total 9 columns):\n",
      " #   Column          Non-Null Count    Dtype \n",
      "---  ------          --------------    ----- \n",
      " 0   tconst          1365643 non-null  object\n",
      " 1   titleType       1365643 non-null  object\n",
      " 2   primaryTitle    1365643 non-null  object\n",
      " 3   originalTitle   1365643 non-null  object\n",
      " 4   isAdult         1365643 non-null  object\n",
      " 5   startYear       1365643 non-null  object\n",
      " 6   endYear         1365643 non-null  object\n",
      " 7   runtimeMinutes  1365643 non-null  object\n",
      " 8   genres          1365643 non-null  object\n",
      "dtypes: object(9)\n",
      "memory usage: 104.2+ MB\n"
     ]
    }
   ],
   "source": [
    "# Make basics a dataframe\n",
    "df_basics = pd.DataFrame(basics)\n",
    "df_basics.info()"
   ]
  },
  {
   "cell_type": "code",
   "execution_count": 7,
   "id": "f5f5a91b-f59d-4b71-abfc-c1ca4f5e5a49",
   "metadata": {
    "tags": []
   },
   "outputs": [
    {
     "data": {
      "text/html": [
       "<div>\n",
       "<style scoped>\n",
       "    .dataframe tbody tr th:only-of-type {\n",
       "        vertical-align: middle;\n",
       "    }\n",
       "\n",
       "    .dataframe tbody tr th {\n",
       "        vertical-align: top;\n",
       "    }\n",
       "\n",
       "    .dataframe thead th {\n",
       "        text-align: right;\n",
       "    }\n",
       "</style>\n",
       "<table border=\"1\" class=\"dataframe\">\n",
       "  <thead>\n",
       "    <tr style=\"text-align: right;\">\n",
       "      <th></th>\n",
       "      <th>tconst</th>\n",
       "      <th>titleType</th>\n",
       "      <th>primaryTitle</th>\n",
       "      <th>originalTitle</th>\n",
       "      <th>isAdult</th>\n",
       "      <th>startYear</th>\n",
       "      <th>endYear</th>\n",
       "      <th>runtimeMinutes</th>\n",
       "      <th>genres</th>\n",
       "    </tr>\n",
       "  </thead>\n",
       "  <tbody>\n",
       "    <tr>\n",
       "      <th>0</th>\n",
       "      <td>tt0000001</td>\n",
       "      <td>short</td>\n",
       "      <td>Carmencita</td>\n",
       "      <td>Carmencita</td>\n",
       "      <td>0</td>\n",
       "      <td>1894</td>\n",
       "      <td>\\N</td>\n",
       "      <td>1</td>\n",
       "      <td>Documentary,Short</td>\n",
       "    </tr>\n",
       "    <tr>\n",
       "      <th>1</th>\n",
       "      <td>tt0000002</td>\n",
       "      <td>short</td>\n",
       "      <td>Le clown et ses chiens</td>\n",
       "      <td>Le clown et ses chiens</td>\n",
       "      <td>0</td>\n",
       "      <td>1892</td>\n",
       "      <td>\\N</td>\n",
       "      <td>5</td>\n",
       "      <td>Animation,Short</td>\n",
       "    </tr>\n",
       "    <tr>\n",
       "      <th>4</th>\n",
       "      <td>tt0000005</td>\n",
       "      <td>short</td>\n",
       "      <td>Blacksmith Scene</td>\n",
       "      <td>Blacksmith Scene</td>\n",
       "      <td>0</td>\n",
       "      <td>1893</td>\n",
       "      <td>\\N</td>\n",
       "      <td>1</td>\n",
       "      <td>Comedy,Short</td>\n",
       "    </tr>\n",
       "    <tr>\n",
       "      <th>5</th>\n",
       "      <td>tt0000006</td>\n",
       "      <td>short</td>\n",
       "      <td>Chinese Opium Den</td>\n",
       "      <td>Chinese Opium Den</td>\n",
       "      <td>0</td>\n",
       "      <td>1894</td>\n",
       "      <td>\\N</td>\n",
       "      <td>1</td>\n",
       "      <td>Short</td>\n",
       "    </tr>\n",
       "    <tr>\n",
       "      <th>6</th>\n",
       "      <td>tt0000007</td>\n",
       "      <td>short</td>\n",
       "      <td>Corbett and Courtney Before the Kinetograph</td>\n",
       "      <td>Corbett and Courtney Before the Kinetograph</td>\n",
       "      <td>0</td>\n",
       "      <td>1894</td>\n",
       "      <td>\\N</td>\n",
       "      <td>1</td>\n",
       "      <td>Short,Sport</td>\n",
       "    </tr>\n",
       "  </tbody>\n",
       "</table>\n",
       "</div>"
      ],
      "text/plain": [
       "      tconst titleType                                 primaryTitle  \\\n",
       "0  tt0000001     short                                   Carmencita   \n",
       "1  tt0000002     short                       Le clown et ses chiens   \n",
       "4  tt0000005     short                             Blacksmith Scene   \n",
       "5  tt0000006     short                            Chinese Opium Den   \n",
       "6  tt0000007     short  Corbett and Courtney Before the Kinetograph   \n",
       "\n",
       "                                 originalTitle isAdult startYear endYear  \\\n",
       "0                                   Carmencita       0      1894      \\N   \n",
       "1                       Le clown et ses chiens       0      1892      \\N   \n",
       "4                             Blacksmith Scene       0      1893      \\N   \n",
       "5                            Chinese Opium Den       0      1894      \\N   \n",
       "6  Corbett and Courtney Before the Kinetograph       0      1894      \\N   \n",
       "\n",
       "  runtimeMinutes             genres  \n",
       "0              1  Documentary,Short  \n",
       "1              5    Animation,Short  \n",
       "4              1       Comedy,Short  \n",
       "5              1              Short  \n",
       "6              1        Short,Sport  "
      ]
     },
     "execution_count": 7,
     "metadata": {},
     "output_type": "execute_result"
    }
   ],
   "source": [
    "df_basics.head()"
   ]
  },
  {
   "cell_type": "code",
   "execution_count": 8,
   "id": "159d1ac0-9129-4450-b6c7-d027c01c219d",
   "metadata": {
    "tags": []
   },
   "outputs": [],
   "source": [
    "# Replace placeholder \"\\N\" values with null values (np.nan)\n",
    "df_basics = df_basics.replace({'\\\\N':np.nan})"
   ]
  },
  {
   "cell_type": "code",
   "execution_count": 9,
   "id": "662a1bd6-188b-43ea-8e7f-d031dbb7cae1",
   "metadata": {
    "tags": []
   },
   "outputs": [],
   "source": [
    "# Drop rows with null values in the runtimeMinutes or genres columns ONLY. Do not drop null values from other columns. \n",
    "# Hint: dropna has a subset argument that accepts a list of columns to check.\n",
    "df_basics = df_basics.dropna(axis=0, subset=['runtimeMinutes','genres'])"
   ]
  },
  {
   "cell_type": "code",
   "execution_count": 10,
   "id": "5700be4d-8109-41ca-9384-7843f81fe400",
   "metadata": {
    "tags": []
   },
   "outputs": [],
   "source": [
    "# Filter to keep only full-length movies (titleType==Movie)\n",
    "df_basics = df_basics.loc[df_basics['titleType']=='movie']"
   ]
  },
  {
   "cell_type": "code",
   "execution_count": 11,
   "id": "82a8a6ef-ba43-4c7c-9e1b-7fd724b3f148",
   "metadata": {
    "tags": []
   },
   "outputs": [
    {
     "data": {
      "text/plain": [
       "movie    203476\n",
       "Name: titleType, dtype: int64"
      ]
     },
     "execution_count": 11,
     "metadata": {},
     "output_type": "execute_result"
    }
   ],
   "source": [
    "df_basics['titleType'].value_counts()"
   ]
  },
  {
   "cell_type": "code",
   "execution_count": 12,
   "id": "bdda0cb8-1ea7-47cf-b6ba-0faa667018c2",
   "metadata": {
    "tags": []
   },
   "outputs": [
    {
     "data": {
      "text/plain": [
       "<bound method NDFrame.describe of              tconst titleType                    primaryTitle  \\\n",
       "8         tt0000009     movie                      Miss Jerry   \n",
       "144       tt0000147     movie   The Corbett-Fitzsimmons Fight   \n",
       "570       tt0000574     movie     The Story of the Kelly Gang   \n",
       "587       tt0000591     movie                The Prodigal Son   \n",
       "672       tt0000679     movie  The Fairylogue and Radio-Plays   \n",
       "...             ...       ...                             ...   \n",
       "10016366  tt9915436     movie               Vida em Movimento   \n",
       "10016544  tt9915872     movie            The Last White Witch   \n",
       "10016684  tt9916170     movie                   The Rehearsal   \n",
       "10016693  tt9916190     movie                       Safeguard   \n",
       "10016777  tt9916362     movie                           Coven   \n",
       "\n",
       "                           originalTitle isAdult startYear endYear  \\\n",
       "8                             Miss Jerry       0      1894     NaN   \n",
       "144        The Corbett-Fitzsimmons Fight       0      1897     NaN   \n",
       "570          The Story of the Kelly Gang       0      1906     NaN   \n",
       "587                    L'enfant prodigue       0      1907     NaN   \n",
       "672       The Fairylogue and Radio-Plays       0      1908     NaN   \n",
       "...                                  ...     ...       ...     ...   \n",
       "10016366               Vida em Movimento       0      2019     NaN   \n",
       "10016544       My Girlfriend is a Wizard       0      2019     NaN   \n",
       "10016684                        O Ensaio       0      2019     NaN   \n",
       "10016693                       Safeguard       0      2020     NaN   \n",
       "10016777                        Akelarre       0      2020     NaN   \n",
       "\n",
       "         runtimeMinutes                      genres  \n",
       "8                    45                     Romance  \n",
       "144                 100      Documentary,News,Sport  \n",
       "570                  70  Action,Adventure,Biography  \n",
       "587                  90                       Drama  \n",
       "672                 120           Adventure,Fantasy  \n",
       "...                 ...                         ...  \n",
       "10016366             70                 Documentary  \n",
       "10016544             97        Comedy,Drama,Fantasy  \n",
       "10016684             51                       Drama  \n",
       "10016693             95   Action,Adventure,Thriller  \n",
       "10016777             92               Drama,History  \n",
       "\n",
       "[203476 rows x 9 columns]>"
      ]
     },
     "execution_count": 12,
     "metadata": {},
     "output_type": "execute_result"
    }
   ],
   "source": [
    "df_basics.describe"
   ]
  },
  {
   "cell_type": "code",
   "execution_count": 13,
   "id": "94dc1129-551f-4dc2-824b-84ec67886ef8",
   "metadata": {},
   "outputs": [],
   "source": [
    "# Convert startYear to a float dtype\n",
    "df_basics['startYear'] = df_basics['startYear'].astype('float')"
   ]
  },
  {
   "cell_type": "code",
   "execution_count": 14,
   "id": "d899e7fd-f56a-4b1f-86e8-d25dbfd4459e",
   "metadata": {},
   "outputs": [],
   "source": [
    "# Filter to keep movies with startYears that are >=2000 and <=2022\n",
    "df_basics = df_basics.loc[(df_basics['startYear']>=2000)&(df_basics['startYear']<=2022)]"
   ]
  },
  {
   "cell_type": "code",
   "execution_count": 15,
   "id": "5e8e5c97-d9e6-4e3c-9f0d-c09f9a7631f5",
   "metadata": {
    "tags": []
   },
   "outputs": [
    {
     "data": {
      "text/plain": [
       "2019.0    8102\n",
       "2018.0    7866\n",
       "2017.0    7816\n",
       "2016.0    7415\n",
       "2015.0    7228\n",
       "2014.0    7170\n",
       "2020.0    7031\n",
       "2013.0    6945\n",
       "2021.0    6929\n",
       "2022.0    6684\n",
       "2012.0    6597\n",
       "2011.0    6124\n",
       "2010.0    5580\n",
       "2009.0    5087\n",
       "2008.0    4232\n",
       "2007.0    3610\n",
       "2006.0    3342\n",
       "2005.0    2923\n",
       "2004.0    2535\n",
       "2003.0    2188\n",
       "2002.0    2003\n",
       "2001.0    1931\n",
       "2000.0    1789\n",
       "Name: startYear, dtype: int64"
      ]
     },
     "execution_count": 15,
     "metadata": {},
     "output_type": "execute_result"
    }
   ],
   "source": [
    "df_basics['startYear'].value_counts()"
   ]
  },
  {
   "cell_type": "code",
   "execution_count": 16,
   "id": "c9c94033-aa22-4858-be0a-8b6085aadb49",
   "metadata": {
    "tags": []
   },
   "outputs": [
    {
     "data": {
      "text/plain": [
       "Documentary                      21375\n",
       "Drama                            17085\n",
       "Comedy                            7148\n",
       "Horror                            4071\n",
       "Comedy,Drama                      4000\n",
       "                                 ...  \n",
       "Adult,Crime,Mystery                  1\n",
       "Comedy,Documentary,Reality-TV        1\n",
       "Biography,Music,Mystery              1\n",
       "Comedy,Reality-TV,Romance            1\n",
       "Biography,Fantasy,Musical            1\n",
       "Name: genres, Length: 1054, dtype: int64"
      ]
     },
     "execution_count": 16,
     "metadata": {},
     "output_type": "execute_result"
    }
   ],
   "source": [
    "df_basics['genres'].value_counts()"
   ]
  },
  {
   "cell_type": "code",
   "execution_count": 17,
   "id": "a25cb82a-b370-4348-ba64-388279c52c6e",
   "metadata": {
    "tags": []
   },
   "outputs": [],
   "source": [
    "# Eliminate movies that include \"Documentary\" in genre:\n",
    "df_basics = df_basics.loc[df_basics['genres']!='Documentary']"
   ]
  },
  {
   "cell_type": "code",
   "execution_count": 18,
   "id": "90a1e8d5-bbdc-4296-a151-ddc3bc05fdef",
   "metadata": {},
   "outputs": [
    {
     "data": {
      "text/plain": [
       "Drama                            17085\n",
       "Comedy                            7148\n",
       "Horror                            4071\n",
       "Comedy,Drama                      4000\n",
       "Drama,Romance                     2623\n",
       "                                 ...  \n",
       "Adult,Crime,Mystery                  1\n",
       "Comedy,Documentary,Reality-TV        1\n",
       "Biography,Music,Mystery              1\n",
       "Comedy,Reality-TV,Romance            1\n",
       "Biography,Fantasy,Musical            1\n",
       "Name: genres, Length: 1053, dtype: int64"
      ]
     },
     "execution_count": 18,
     "metadata": {},
     "output_type": "execute_result"
    }
   ],
   "source": [
    "df_basics['genres'].value_counts()"
   ]
  },
  {
   "cell_type": "code",
   "execution_count": 19,
   "id": "5889789c-64ba-4191-9828-63299c217082",
   "metadata": {
    "tags": []
   },
   "outputs": [],
   "source": [
    "# Eliminate movies that include \"Documentary\" in genre:\n",
    "df_basics = df_basics[df_basics['genres'].str.contains('Documentary')==False]"
   ]
  },
  {
   "cell_type": "code",
   "execution_count": 20,
   "id": "14a569b0-fc5c-4477-9ed5-324f14b52ef8",
   "metadata": {},
   "outputs": [
    {
     "name": "stdout",
     "output_type": "stream",
     "text": [
      "<class 'pandas.core.frame.DataFrame'>\n",
      "Int64Index: 86979 entries, 34802 to 10016777\n",
      "Data columns (total 9 columns):\n",
      " #   Column          Non-Null Count  Dtype  \n",
      "---  ------          --------------  -----  \n",
      " 0   tconst          86979 non-null  object \n",
      " 1   titleType       86979 non-null  object \n",
      " 2   primaryTitle    86979 non-null  object \n",
      " 3   originalTitle   86979 non-null  object \n",
      " 4   isAdult         86979 non-null  object \n",
      " 5   startYear       86979 non-null  float64\n",
      " 6   endYear         0 non-null      object \n",
      " 7   runtimeMinutes  86979 non-null  object \n",
      " 8   genres          86979 non-null  object \n",
      "dtypes: float64(1), object(8)\n",
      "memory usage: 6.6+ MB\n"
     ]
    }
   ],
   "source": [
    "# Display a final preview of your filtered title basics and save to a csv\n",
    "# Tip: You should have ~80,000 rows left. If you have significantly more or less, double-check your filtering steps.\n",
    "df_basics.info()"
   ]
  },
  {
   "cell_type": "code",
   "execution_count": 21,
   "id": "833f88de-a21b-4139-b45c-42bfe4945aba",
   "metadata": {},
   "outputs": [
    {
     "data": {
      "text/html": [
       "<div>\n",
       "<style scoped>\n",
       "    .dataframe tbody tr th:only-of-type {\n",
       "        vertical-align: middle;\n",
       "    }\n",
       "\n",
       "    .dataframe tbody tr th {\n",
       "        vertical-align: top;\n",
       "    }\n",
       "\n",
       "    .dataframe thead th {\n",
       "        text-align: right;\n",
       "    }\n",
       "</style>\n",
       "<table border=\"1\" class=\"dataframe\">\n",
       "  <thead>\n",
       "    <tr style=\"text-align: right;\">\n",
       "      <th></th>\n",
       "      <th>tconst</th>\n",
       "      <th>titleType</th>\n",
       "      <th>primaryTitle</th>\n",
       "      <th>originalTitle</th>\n",
       "      <th>isAdult</th>\n",
       "      <th>startYear</th>\n",
       "      <th>endYear</th>\n",
       "      <th>runtimeMinutes</th>\n",
       "      <th>genres</th>\n",
       "    </tr>\n",
       "  </thead>\n",
       "  <tbody>\n",
       "    <tr>\n",
       "      <th>34802</th>\n",
       "      <td>tt0035423</td>\n",
       "      <td>movie</td>\n",
       "      <td>Kate &amp; Leopold</td>\n",
       "      <td>Kate &amp; Leopold</td>\n",
       "      <td>0</td>\n",
       "      <td>2001.0</td>\n",
       "      <td>NaN</td>\n",
       "      <td>118</td>\n",
       "      <td>Comedy,Fantasy,Romance</td>\n",
       "    </tr>\n",
       "    <tr>\n",
       "      <th>61114</th>\n",
       "      <td>tt0062336</td>\n",
       "      <td>movie</td>\n",
       "      <td>The Tango of the Widower and Its Distorting Mi...</td>\n",
       "      <td>El tango del viudo y su espejo deformante</td>\n",
       "      <td>0</td>\n",
       "      <td>2020.0</td>\n",
       "      <td>NaN</td>\n",
       "      <td>70</td>\n",
       "      <td>Drama</td>\n",
       "    </tr>\n",
       "    <tr>\n",
       "      <th>67666</th>\n",
       "      <td>tt0069049</td>\n",
       "      <td>movie</td>\n",
       "      <td>The Other Side of the Wind</td>\n",
       "      <td>The Other Side of the Wind</td>\n",
       "      <td>0</td>\n",
       "      <td>2018.0</td>\n",
       "      <td>NaN</td>\n",
       "      <td>122</td>\n",
       "      <td>Drama</td>\n",
       "    </tr>\n",
       "    <tr>\n",
       "      <th>86793</th>\n",
       "      <td>tt0088751</td>\n",
       "      <td>movie</td>\n",
       "      <td>The Naked Monster</td>\n",
       "      <td>The Naked Monster</td>\n",
       "      <td>0</td>\n",
       "      <td>2005.0</td>\n",
       "      <td>NaN</td>\n",
       "      <td>100</td>\n",
       "      <td>Comedy,Horror,Sci-Fi</td>\n",
       "    </tr>\n",
       "    <tr>\n",
       "      <th>93930</th>\n",
       "      <td>tt0096056</td>\n",
       "      <td>movie</td>\n",
       "      <td>Crime and Punishment</td>\n",
       "      <td>Crime and Punishment</td>\n",
       "      <td>0</td>\n",
       "      <td>2002.0</td>\n",
       "      <td>NaN</td>\n",
       "      <td>126</td>\n",
       "      <td>Drama</td>\n",
       "    </tr>\n",
       "  </tbody>\n",
       "</table>\n",
       "</div>"
      ],
      "text/plain": [
       "          tconst titleType                                       primaryTitle  \\\n",
       "34802  tt0035423     movie                                     Kate & Leopold   \n",
       "61114  tt0062336     movie  The Tango of the Widower and Its Distorting Mi...   \n",
       "67666  tt0069049     movie                         The Other Side of the Wind   \n",
       "86793  tt0088751     movie                                  The Naked Monster   \n",
       "93930  tt0096056     movie                               Crime and Punishment   \n",
       "\n",
       "                                   originalTitle isAdult  startYear endYear  \\\n",
       "34802                             Kate & Leopold       0     2001.0     NaN   \n",
       "61114  El tango del viudo y su espejo deformante       0     2020.0     NaN   \n",
       "67666                 The Other Side of the Wind       0     2018.0     NaN   \n",
       "86793                          The Naked Monster       0     2005.0     NaN   \n",
       "93930                       Crime and Punishment       0     2002.0     NaN   \n",
       "\n",
       "      runtimeMinutes                  genres  \n",
       "34802            118  Comedy,Fantasy,Romance  \n",
       "61114             70                   Drama  \n",
       "67666            122                   Drama  \n",
       "86793            100    Comedy,Horror,Sci-Fi  \n",
       "93930            126                   Drama  "
      ]
     },
     "execution_count": 21,
     "metadata": {},
     "output_type": "execute_result"
    }
   ],
   "source": [
    "df_basics.head()"
   ]
  },
  {
   "cell_type": "code",
   "execution_count": 23,
   "id": "88b143d8-12ee-4db8-8825-9f0093059119",
   "metadata": {},
   "outputs": [],
   "source": [
    "# Save the data to a CSV file in your Data folder.\n",
    "df_basics.to_csv(\"Data/title-basics-us-only.csv\")"
   ]
  },
  {
   "cell_type": "code",
   "execution_count": 24,
   "id": "e7cd90ef-8e2b-4ae4-868a-87a4e5bd3776",
   "metadata": {},
   "outputs": [],
   "source": [
    "#  Load and filter the title ratings file\n",
    "ratings = pd.read_csv(\"Data/title.ratings.tsv.gz\", sep='\\t', low_memory=False)"
   ]
  },
  {
   "cell_type": "code",
   "execution_count": 28,
   "id": "abb609af-44d7-42c2-9bcf-3f943b35f58c",
   "metadata": {
    "tags": []
   },
   "outputs": [
    {
     "data": {
      "text/html": [
       "<div>\n",
       "<style scoped>\n",
       "    .dataframe tbody tr th:only-of-type {\n",
       "        vertical-align: middle;\n",
       "    }\n",
       "\n",
       "    .dataframe tbody tr th {\n",
       "        vertical-align: top;\n",
       "    }\n",
       "\n",
       "    .dataframe thead th {\n",
       "        text-align: right;\n",
       "    }\n",
       "</style>\n",
       "<table border=\"1\" class=\"dataframe\">\n",
       "  <thead>\n",
       "    <tr style=\"text-align: right;\">\n",
       "      <th></th>\n",
       "      <th>tconst</th>\n",
       "      <th>averageRating</th>\n",
       "      <th>numVotes</th>\n",
       "    </tr>\n",
       "  </thead>\n",
       "  <tbody>\n",
       "    <tr>\n",
       "      <th>0</th>\n",
       "      <td>tt0000001</td>\n",
       "      <td>5.7</td>\n",
       "      <td>1988</td>\n",
       "    </tr>\n",
       "    <tr>\n",
       "      <th>1</th>\n",
       "      <td>tt0000002</td>\n",
       "      <td>5.8</td>\n",
       "      <td>265</td>\n",
       "    </tr>\n",
       "    <tr>\n",
       "      <th>4</th>\n",
       "      <td>tt0000005</td>\n",
       "      <td>6.2</td>\n",
       "      <td>2632</td>\n",
       "    </tr>\n",
       "    <tr>\n",
       "      <th>5</th>\n",
       "      <td>tt0000006</td>\n",
       "      <td>5.1</td>\n",
       "      <td>182</td>\n",
       "    </tr>\n",
       "    <tr>\n",
       "      <th>6</th>\n",
       "      <td>tt0000007</td>\n",
       "      <td>5.4</td>\n",
       "      <td>825</td>\n",
       "    </tr>\n",
       "    <tr>\n",
       "      <th>...</th>\n",
       "      <td>...</td>\n",
       "      <td>...</td>\n",
       "      <td>...</td>\n",
       "    </tr>\n",
       "    <tr>\n",
       "      <th>1331453</th>\n",
       "      <td>tt9916200</td>\n",
       "      <td>8.1</td>\n",
       "      <td>231</td>\n",
       "    </tr>\n",
       "    <tr>\n",
       "      <th>1331454</th>\n",
       "      <td>tt9916204</td>\n",
       "      <td>8.2</td>\n",
       "      <td>264</td>\n",
       "    </tr>\n",
       "    <tr>\n",
       "      <th>1331461</th>\n",
       "      <td>tt9916348</td>\n",
       "      <td>8.3</td>\n",
       "      <td>18</td>\n",
       "    </tr>\n",
       "    <tr>\n",
       "      <th>1331462</th>\n",
       "      <td>tt9916362</td>\n",
       "      <td>6.4</td>\n",
       "      <td>5422</td>\n",
       "    </tr>\n",
       "    <tr>\n",
       "      <th>1331467</th>\n",
       "      <td>tt9916428</td>\n",
       "      <td>3.8</td>\n",
       "      <td>14</td>\n",
       "    </tr>\n",
       "  </tbody>\n",
       "</table>\n",
       "<p>504000 rows × 3 columns</p>\n",
       "</div>"
      ],
      "text/plain": [
       "            tconst  averageRating  numVotes\n",
       "0        tt0000001            5.7      1988\n",
       "1        tt0000002            5.8       265\n",
       "4        tt0000005            6.2      2632\n",
       "5        tt0000006            5.1       182\n",
       "6        tt0000007            5.4       825\n",
       "...            ...            ...       ...\n",
       "1331453  tt9916200            8.1       231\n",
       "1331454  tt9916204            8.2       264\n",
       "1331461  tt9916348            8.3        18\n",
       "1331462  tt9916362            6.4      5422\n",
       "1331467  tt9916428            3.8        14\n",
       "\n",
       "[504000 rows x 3 columns]"
      ]
     },
     "execution_count": 28,
     "metadata": {},
     "output_type": "execute_result"
    }
   ],
   "source": [
    "# Keep only movies that are included in your final title basics dataframe.\n",
    "# Hint: Filter ratings using title basics similarly to how you filtered basics with AKAs:\n",
    "filter_basics = ratings['tconst'].isin(basics['tconst'])\n",
    "ratings = ratings[filter_basics]\n",
    "ratings"
   ]
  },
  {
   "cell_type": "code",
   "execution_count": 29,
   "id": "1ed35e4c-803d-442c-a71a-5866054a69bc",
   "metadata": {},
   "outputs": [],
   "source": [
    "# Load the title ratings data into a dataframe.\n",
    "df_ratings = pd.DataFrame(ratings)"
   ]
  },
  {
   "cell_type": "code",
   "execution_count": 30,
   "id": "d43acb58-716d-405b-95a5-f2d5facf36a6",
   "metadata": {},
   "outputs": [
    {
     "name": "stdout",
     "output_type": "stream",
     "text": [
      "<class 'pandas.core.frame.DataFrame'>\n",
      "Int64Index: 504000 entries, 0 to 1331467\n",
      "Data columns (total 3 columns):\n",
      " #   Column         Non-Null Count   Dtype  \n",
      "---  ------         --------------   -----  \n",
      " 0   tconst         504000 non-null  object \n",
      " 1   averageRating  504000 non-null  float64\n",
      " 2   numVotes       504000 non-null  int64  \n",
      "dtypes: float64(1), int64(1), object(1)\n",
      "memory usage: 15.4+ MB\n"
     ]
    }
   ],
   "source": [
    "df_ratings.info()"
   ]
  },
  {
   "cell_type": "code",
   "execution_count": 31,
   "id": "fe6f8949-df17-4987-b5e5-3ffcea8cb5d5",
   "metadata": {
    "tags": []
   },
   "outputs": [
    {
     "data": {
      "text/html": [
       "<div>\n",
       "<style scoped>\n",
       "    .dataframe tbody tr th:only-of-type {\n",
       "        vertical-align: middle;\n",
       "    }\n",
       "\n",
       "    .dataframe tbody tr th {\n",
       "        vertical-align: top;\n",
       "    }\n",
       "\n",
       "    .dataframe thead th {\n",
       "        text-align: right;\n",
       "    }\n",
       "</style>\n",
       "<table border=\"1\" class=\"dataframe\">\n",
       "  <thead>\n",
       "    <tr style=\"text-align: right;\">\n",
       "      <th></th>\n",
       "      <th>tconst</th>\n",
       "      <th>averageRating</th>\n",
       "      <th>numVotes</th>\n",
       "    </tr>\n",
       "  </thead>\n",
       "  <tbody>\n",
       "    <tr>\n",
       "      <th>0</th>\n",
       "      <td>tt0000001</td>\n",
       "      <td>5.7</td>\n",
       "      <td>1988</td>\n",
       "    </tr>\n",
       "    <tr>\n",
       "      <th>1</th>\n",
       "      <td>tt0000002</td>\n",
       "      <td>5.8</td>\n",
       "      <td>265</td>\n",
       "    </tr>\n",
       "    <tr>\n",
       "      <th>4</th>\n",
       "      <td>tt0000005</td>\n",
       "      <td>6.2</td>\n",
       "      <td>2632</td>\n",
       "    </tr>\n",
       "    <tr>\n",
       "      <th>5</th>\n",
       "      <td>tt0000006</td>\n",
       "      <td>5.1</td>\n",
       "      <td>182</td>\n",
       "    </tr>\n",
       "    <tr>\n",
       "      <th>6</th>\n",
       "      <td>tt0000007</td>\n",
       "      <td>5.4</td>\n",
       "      <td>825</td>\n",
       "    </tr>\n",
       "  </tbody>\n",
       "</table>\n",
       "</div>"
      ],
      "text/plain": [
       "      tconst  averageRating  numVotes\n",
       "0  tt0000001            5.7      1988\n",
       "1  tt0000002            5.8       265\n",
       "4  tt0000005            6.2      2632\n",
       "5  tt0000006            5.1       182\n",
       "6  tt0000007            5.4       825"
      ]
     },
     "execution_count": 31,
     "metadata": {},
     "output_type": "execute_result"
    }
   ],
   "source": [
    "df_ratings.head()"
   ]
  },
  {
   "cell_type": "code",
   "execution_count": 32,
   "id": "04f99cbe-fd5d-47a4-a90f-6313597dc258",
   "metadata": {
    "tags": []
   },
   "outputs": [],
   "source": [
    "# Replace placeholder \"\\N\" values with null values (np.nan)\n",
    "df_ratings = df_ratings.replace({'\\\\N':np.nan})"
   ]
  },
  {
   "cell_type": "code",
   "execution_count": 33,
   "id": "dede30f4-735f-466b-a7c3-9ab23945abeb",
   "metadata": {
    "tags": []
   },
   "outputs": [
    {
     "name": "stdout",
     "output_type": "stream",
     "text": [
      "<class 'pandas.core.frame.DataFrame'>\n",
      "Int64Index: 504000 entries, 0 to 1331467\n",
      "Data columns (total 3 columns):\n",
      " #   Column         Non-Null Count   Dtype  \n",
      "---  ------         --------------   -----  \n",
      " 0   tconst         504000 non-null  object \n",
      " 1   averageRating  504000 non-null  float64\n",
      " 2   numVotes       504000 non-null  int64  \n",
      "dtypes: float64(1), int64(1), object(1)\n",
      "memory usage: 15.4+ MB\n"
     ]
    }
   ],
   "source": [
    "df_ratings.info()"
   ]
  },
  {
   "cell_type": "code",
   "execution_count": 34,
   "id": "09ea60e0-0cd0-4240-981d-6995f78fb423",
   "metadata": {
    "tags": []
   },
   "outputs": [
    {
     "data": {
      "text/html": [
       "<div>\n",
       "<style scoped>\n",
       "    .dataframe tbody tr th:only-of-type {\n",
       "        vertical-align: middle;\n",
       "    }\n",
       "\n",
       "    .dataframe tbody tr th {\n",
       "        vertical-align: top;\n",
       "    }\n",
       "\n",
       "    .dataframe thead th {\n",
       "        text-align: right;\n",
       "    }\n",
       "</style>\n",
       "<table border=\"1\" class=\"dataframe\">\n",
       "  <thead>\n",
       "    <tr style=\"text-align: right;\">\n",
       "      <th></th>\n",
       "      <th>tconst</th>\n",
       "      <th>averageRating</th>\n",
       "      <th>numVotes</th>\n",
       "    </tr>\n",
       "  </thead>\n",
       "  <tbody>\n",
       "    <tr>\n",
       "      <th>0</th>\n",
       "      <td>tt0000001</td>\n",
       "      <td>5.7</td>\n",
       "      <td>1988</td>\n",
       "    </tr>\n",
       "    <tr>\n",
       "      <th>1</th>\n",
       "      <td>tt0000002</td>\n",
       "      <td>5.8</td>\n",
       "      <td>265</td>\n",
       "    </tr>\n",
       "    <tr>\n",
       "      <th>4</th>\n",
       "      <td>tt0000005</td>\n",
       "      <td>6.2</td>\n",
       "      <td>2632</td>\n",
       "    </tr>\n",
       "    <tr>\n",
       "      <th>5</th>\n",
       "      <td>tt0000006</td>\n",
       "      <td>5.1</td>\n",
       "      <td>182</td>\n",
       "    </tr>\n",
       "    <tr>\n",
       "      <th>6</th>\n",
       "      <td>tt0000007</td>\n",
       "      <td>5.4</td>\n",
       "      <td>825</td>\n",
       "    </tr>\n",
       "  </tbody>\n",
       "</table>\n",
       "</div>"
      ],
      "text/plain": [
       "      tconst  averageRating  numVotes\n",
       "0  tt0000001            5.7      1988\n",
       "1  tt0000002            5.8       265\n",
       "4  tt0000005            6.2      2632\n",
       "5  tt0000006            5.1       182\n",
       "6  tt0000007            5.4       825"
      ]
     },
     "execution_count": 34,
     "metadata": {},
     "output_type": "execute_result"
    }
   ],
   "source": [
    "df_ratings.head()"
   ]
  },
  {
   "cell_type": "code",
   "execution_count": 35,
   "id": "febd62d5-a00a-4299-9af7-2f8c7d0b7403",
   "metadata": {
    "tags": []
   },
   "outputs": [],
   "source": [
    "df_ratings.to_csv(\"Data/title-ratings-us-only.csv\")"
   ]
  }
 ],
 "metadata": {
  "kernelspec": {
   "display_name": "Python (dojo-env)",
   "language": "python",
   "name": "dojo-env"
  },
  "language_info": {
   "codemirror_mode": {
    "name": "ipython",
    "version": 3
   },
   "file_extension": ".py",
   "mimetype": "text/x-python",
   "name": "python",
   "nbconvert_exporter": "python",
   "pygments_lexer": "ipython3",
   "version": "3.10.10"
  },
  "widgets": {
   "application/vnd.jupyter.widget-state+json": {
    "state": {},
    "version_major": 2,
    "version_minor": 0
   }
  }
 },
 "nbformat": 4,
 "nbformat_minor": 5
}
